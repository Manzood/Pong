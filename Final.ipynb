{
 "cells": [
  {
   "cell_type": "code",
   "execution_count": 1,
   "metadata": {},
   "outputs": [
    {
     "name": "stdout",
     "output_type": "stream",
     "text": [
      "pygame 1.9.6\n",
      "Hello from the pygame community. https://www.pygame.org/contribute.html\n"
     ]
    },
    {
     "ename": "error",
     "evalue": "video system not initialized",
     "output_type": "error",
     "traceback": [
      "\u001b[0;31m---------------------------------------------------------------------------\u001b[0m",
      "\u001b[0;31merror\u001b[0m                                     Traceback (most recent call last)",
      "\u001b[0;32m<ipython-input-1-d6b0ef79d769>\u001b[0m in \u001b[0;36m<module>\u001b[0;34m\u001b[0m\n\u001b[1;32m     82\u001b[0m \u001b[0;34m\u001b[0m\u001b[0m\n\u001b[1;32m     83\u001b[0m         \u001b[0;31m# Draws the surface object to the screen.\u001b[0m\u001b[0;34m\u001b[0m\u001b[0;34m\u001b[0m\u001b[0;34m\u001b[0m\u001b[0m\n\u001b[0;32m---> 84\u001b[0;31m     \u001b[0mpygame\u001b[0m\u001b[0;34m.\u001b[0m\u001b[0mdisplay\u001b[0m\u001b[0;34m.\u001b[0m\u001b[0mupdate\u001b[0m\u001b[0;34m(\u001b[0m\u001b[0;34m)\u001b[0m\u001b[0;34m\u001b[0m\u001b[0;34m\u001b[0m\u001b[0m\n\u001b[0m\u001b[1;32m     85\u001b[0m \u001b[0;34m\u001b[0m\u001b[0m\n",
      "\u001b[0;31merror\u001b[0m: video system not initialized"
     ]
    }
   ],
   "source": [
    "import pygame \n",
    "import time\n",
    "\n",
    "pygame.init() \n",
    "\n",
    "#basic initialization of all variables\n",
    "white = (255, 255, 255) \n",
    "green = (0, 255, 0) \n",
    "blue = (0, 0, 128) \n",
    "black = [0, 0, 0]\n",
    "\n",
    "gameDisplay = pygame.display.set_mode((800, 600)) \n",
    "pygame.display.set_caption('Pong')   \n",
    "\n",
    "#initialization of everything important to an FPS metre display\n",
    "fpsdefault = 'FPS = '\n",
    "fpsfont = pygame.font.Font('freesansbold.ttf', 10)\n",
    "fpstext = fpsfont.render(fpsdefault, True, white, black)\n",
    "fpstextRect = fpstext.get_rect()\n",
    "fpstextRect.center = (760, 10)\n",
    "    \n",
    "#global variables for the FPS display function\n",
    "starttime = time.time()\n",
    "ticks = 0\n",
    "numresets = 0\n",
    "totalfps = 0\n",
    "avgfps = 0\n",
    "\n",
    "#Function in charge of an initial (probably unnecessary) loading screen\n",
    "def loadingscreen():\n",
    "    loadingfont = pygame.font.Font('freesansbold.ttf', 200)\n",
    "    loadingtext = loadingfont.render('PONG', True, white, black)\n",
    "    loadingtextRect = loadingtext.get_rect()\n",
    "    X = 400\n",
    "    Y = 300\n",
    "    loadingtextRect.center = (X, Y)\n",
    "    gameDisplay.blit(loadingtext, loadingtextRect)\n",
    "    starttime = time.time()\n",
    "    #groundwork for a loading screen animation\n",
    "    while time.time() - starttime < 10:\n",
    "        gameDisplay.blit(loadingtext, loadingtextRect)\n",
    "        pygame.display.update() \n",
    "\n",
    "#function that displays the average FPS that the game is running on -- *NEEDS IMPROVEMENT*\n",
    "def showfps():\n",
    "    global ticks\n",
    "    global starttime\n",
    "    global avgfps\n",
    "    global numresets\n",
    "    global totalfps\n",
    "    tensecondsgo = 0\n",
    "\n",
    "    ticks += 1\n",
    "    \n",
    "    if time.time() - starttime >= 1:\n",
    "        ticks = 0\n",
    "        numresets+=1\n",
    "        starttime = time.time()\n",
    "        \n",
    "    if numresets>0:\n",
    "        totalfps += ticks\n",
    "        avgfps = totalfps//numresets\n",
    "        \n",
    "    if numresets == 10:\n",
    "        tenseconds\n",
    "        \n",
    "        \n",
    "    fps = fpsdefault+ str(avgfps)\n",
    "    fpstext = fpsfont.render(fps, True, white, black)\n",
    "    gameDisplay.blit(fpstext, fpstextRect) \n",
    "    \n",
    "#Calling the loading screen function for the first and only time\n",
    "loadingscreen()\n",
    "    \n",
    "#Main function, essentially (A loop that runs infintely until the quit button is pressed)\n",
    "while True : \n",
    "    gameDisplay.fill(black) \n",
    "    \n",
    "    #self explanatory, displays the FPS\n",
    "    showfps()\n",
    "\n",
    "    for event in pygame.event.get() : \n",
    "  \n",
    "        if event.type == pygame.QUIT : \n",
    "            pygame.quit() \n",
    "            quit() \n",
    "  \n",
    "        # Draws the surface object to the screen.   \n",
    "    pygame.display.update() \n",
    "    "
   ]
  },
  {
   "cell_type": "code",
   "execution_count": null,
   "metadata": {},
   "outputs": [],
   "source": []
  },
  {
   "cell_type": "code",
   "execution_count": null,
   "metadata": {},
   "outputs": [],
   "source": []
  }
 ],
 "metadata": {
  "kernelspec": {
   "display_name": "Python 3",
   "language": "python",
   "name": "python3"
  },
  "language_info": {
   "codemirror_mode": {
    "name": "ipython",
    "version": 3
   },
   "file_extension": ".py",
   "mimetype": "text/x-python",
   "name": "python",
   "nbconvert_exporter": "python",
   "pygments_lexer": "ipython3",
   "version": "3.7.4"
  }
 },
 "nbformat": 4,
 "nbformat_minor": 2
}
